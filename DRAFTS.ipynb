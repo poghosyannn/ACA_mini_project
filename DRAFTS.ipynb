{
 "cells": [
  {
   "cell_type": "code",
   "execution_count": 1,
   "id": "eb727a19",
   "metadata": {},
   "outputs": [],
   "source": [
    "import numpy as np\n",
    "import pandas as pd\n",
    "import matplotlib.pyplot as plt\n",
    "from sklearn.ensemble import RandomForestClassifier\n",
    "from sklearn.impute import KNNImputer\n",
    "from sklearn.model_selection import train_test_split, GridSearchCV\n",
    "from sklearn.svm import SVC\n",
    "from sklearn.metrics import confusion_matrix,f1_score,accuracy_score,matthews_corrcoef,roc_auc_score,roc_curve\n",
    "import seaborn as sns\n",
    "from imblearn.over_sampling import SMOTE\n",
    "from sklearn.linear_model import LogisticRegression\n",
    "from sklearn.preprocessing import MinMaxScaler,StandardScaler,RobustScaler\n",
    "from sklearn.naive_bayes import GaussianNB\n",
    "from sklearn.discriminant_analysis import LinearDiscriminantAnalysis,QuadraticDiscriminantAnalysis\n",
    "from sklearn.neighbors import KNeighborsClassifier"
   ]
  },
  {
   "cell_type": "code",
   "execution_count": 2,
   "id": "5f802640",
   "metadata": {},
   "outputs": [],
   "source": [
    "# Reading the data\n",
    "df = pd.read_csv('hospital_deaths_train.csv')\n",
    "df.drop('recordid',axis=1,inplace=True)\n"
   ]
  },
  {
   "cell_type": "code",
   "execution_count": null,
   "id": "d9d2ff47",
   "metadata": {},
   "outputs": [],
   "source": [
    "X_train, X_test, y_train, y_test = train_test_split(mech_data, mech_clean , test_size=0.2,random_state=11)"
   ]
  },
  {
   "cell_type": "code",
   "execution_count": 3,
   "id": "8e428446",
   "metadata": {},
   "outputs": [],
   "source": [
    "mech_data = df[~df['MechVentLast8Hour'].isnull()]\n",
    "data_copy = mech_data.copy()\n",
    "mask = np.random.choice([True,False], size=mech_data.shape[0],p=[0.1,0.9])\n",
    "\n",
    "mech_data.loc[mask,'MechVentLast8Hour'] = np.nan\n"
   ]
  },
  {
   "cell_type": "code",
   "execution_count": 7,
   "id": "d10f5332",
   "metadata": {},
   "outputs": [
    {
     "data": {
      "text/plain": [
       "(2060, 115)"
      ]
     },
     "execution_count": 7,
     "metadata": {},
     "output_type": "execute_result"
    }
   ],
   "source": [
    "mech_data.shape"
   ]
  },
  {
   "cell_type": "code",
   "execution_count": 4,
   "id": "d6469d7e",
   "metadata": {},
   "outputs": [
    {
     "data": {
      "text/plain": [
       "Int64Index([   3,    4,   26,   44,   67,   84,  107,  143,  167,  180,\n",
       "            ...\n",
       "            3065, 3069, 3120, 3145, 3146, 3161, 3176, 3188, 3226, 3240],\n",
       "           dtype='int64', length=198)"
      ]
     },
     "execution_count": 4,
     "metadata": {},
     "output_type": "execute_result"
    }
   ],
   "source": [
    "nan_index = mech_data[mech_data['MechVentLast8Hour'].isnull()].index\n",
    "nan_index"
   ]
  },
  {
   "cell_type": "code",
   "execution_count": 5,
   "id": "fa01abed",
   "metadata": {},
   "outputs": [
    {
     "data": {
      "text/plain": [
       "3       0.0\n",
       "4       0.0\n",
       "26      1.0\n",
       "44      1.0\n",
       "67      1.0\n",
       "       ... \n",
       "3161    1.0\n",
       "3176    0.0\n",
       "3188    1.0\n",
       "3226    1.0\n",
       "3240    1.0\n",
       "Name: MechVentLast8Hour, Length: 198, dtype: float64"
      ]
     },
     "execution_count": 5,
     "metadata": {},
     "output_type": "execute_result"
    }
   ],
   "source": [
    "values = data_copy.loc[nan_index, 'MechVentLast8Hour']\n",
    "values"
   ]
  },
  {
   "cell_type": "code",
   "execution_count": 8,
   "id": "ae510805",
   "metadata": {},
   "outputs": [
    {
     "ename": "ValueError",
     "evalue": "Shape of passed values is (2060, 110), indices imply (2060, 115)",
     "output_type": "error",
     "traceback": [
      "\u001b[0;31m---------------------------------------------------------------------------\u001b[0m",
      "\u001b[0;31mValueError\u001b[0m                                Traceback (most recent call last)",
      "Cell \u001b[0;32mIn [8], line 2\u001b[0m\n\u001b[1;32m      1\u001b[0m impute \u001b[38;5;241m=\u001b[39m KNNImputer(n_neighbors\u001b[38;5;241m=\u001b[39m\u001b[38;5;241m9\u001b[39m)\n\u001b[0;32m----> 2\u001b[0m x_impute \u001b[38;5;241m=\u001b[39m \u001b[43mpd\u001b[49m\u001b[38;5;241;43m.\u001b[39;49m\u001b[43mDataFrame\u001b[49m\u001b[43m(\u001b[49m\u001b[43mimpute\u001b[49m\u001b[38;5;241;43m.\u001b[39;49m\u001b[43mfit_transform\u001b[49m\u001b[43m(\u001b[49m\u001b[43mmech_data\u001b[49m\u001b[43m)\u001b[49m\u001b[43m,\u001b[49m\u001b[43mcolumns\u001b[49m\u001b[38;5;241;43m=\u001b[39;49m\u001b[43mdata_copy\u001b[49m\u001b[38;5;241;43m.\u001b[39;49m\u001b[43mcolumns\u001b[49m\u001b[43m,\u001b[49m\u001b[43mindex\u001b[49m\u001b[38;5;241;43m=\u001b[39;49m\u001b[43mdata_copy\u001b[49m\u001b[38;5;241;43m.\u001b[39;49m\u001b[43mindex\u001b[49m\u001b[43m,\u001b[49m\u001b[43mcopy\u001b[49m\u001b[38;5;241;43m=\u001b[39;49m\u001b[38;5;28;43;01mTrue\u001b[39;49;00m\u001b[43m)\u001b[49m\n\u001b[1;32m      3\u001b[0m x_impute\n",
      "File \u001b[0;32m~/.local/lib/python3.10/site-packages/pandas/core/frame.py:721\u001b[0m, in \u001b[0;36mDataFrame.__init__\u001b[0;34m(self, data, index, columns, dtype, copy)\u001b[0m\n\u001b[1;32m    711\u001b[0m         mgr \u001b[38;5;241m=\u001b[39m dict_to_mgr(\n\u001b[1;32m    712\u001b[0m             \u001b[38;5;66;03m# error: Item \"ndarray\" of \"Union[ndarray, Series, Index]\" has no\u001b[39;00m\n\u001b[1;32m    713\u001b[0m             \u001b[38;5;66;03m# attribute \"name\"\u001b[39;00m\n\u001b[0;32m   (...)\u001b[0m\n\u001b[1;32m    718\u001b[0m             typ\u001b[38;5;241m=\u001b[39mmanager,\n\u001b[1;32m    719\u001b[0m         )\n\u001b[1;32m    720\u001b[0m     \u001b[38;5;28;01melse\u001b[39;00m:\n\u001b[0;32m--> 721\u001b[0m         mgr \u001b[38;5;241m=\u001b[39m \u001b[43mndarray_to_mgr\u001b[49m\u001b[43m(\u001b[49m\n\u001b[1;32m    722\u001b[0m \u001b[43m            \u001b[49m\u001b[43mdata\u001b[49m\u001b[43m,\u001b[49m\n\u001b[1;32m    723\u001b[0m \u001b[43m            \u001b[49m\u001b[43mindex\u001b[49m\u001b[43m,\u001b[49m\n\u001b[1;32m    724\u001b[0m \u001b[43m            \u001b[49m\u001b[43mcolumns\u001b[49m\u001b[43m,\u001b[49m\n\u001b[1;32m    725\u001b[0m \u001b[43m            \u001b[49m\u001b[43mdtype\u001b[49m\u001b[38;5;241;43m=\u001b[39;49m\u001b[43mdtype\u001b[49m\u001b[43m,\u001b[49m\n\u001b[1;32m    726\u001b[0m \u001b[43m            \u001b[49m\u001b[43mcopy\u001b[49m\u001b[38;5;241;43m=\u001b[39;49m\u001b[43mcopy\u001b[49m\u001b[43m,\u001b[49m\n\u001b[1;32m    727\u001b[0m \u001b[43m            \u001b[49m\u001b[43mtyp\u001b[49m\u001b[38;5;241;43m=\u001b[39;49m\u001b[43mmanager\u001b[49m\u001b[43m,\u001b[49m\n\u001b[1;32m    728\u001b[0m \u001b[43m        \u001b[49m\u001b[43m)\u001b[49m\n\u001b[1;32m    730\u001b[0m \u001b[38;5;66;03m# For data is list-like, or Iterable (will consume into list)\u001b[39;00m\n\u001b[1;32m    731\u001b[0m \u001b[38;5;28;01melif\u001b[39;00m is_list_like(data):\n",
      "File \u001b[0;32m~/.local/lib/python3.10/site-packages/pandas/core/internals/construction.py:349\u001b[0m, in \u001b[0;36mndarray_to_mgr\u001b[0;34m(values, index, columns, dtype, copy, typ)\u001b[0m\n\u001b[1;32m    344\u001b[0m \u001b[38;5;66;03m# _prep_ndarraylike ensures that values.ndim == 2 at this point\u001b[39;00m\n\u001b[1;32m    345\u001b[0m index, columns \u001b[38;5;241m=\u001b[39m _get_axes(\n\u001b[1;32m    346\u001b[0m     values\u001b[38;5;241m.\u001b[39mshape[\u001b[38;5;241m0\u001b[39m], values\u001b[38;5;241m.\u001b[39mshape[\u001b[38;5;241m1\u001b[39m], index\u001b[38;5;241m=\u001b[39mindex, columns\u001b[38;5;241m=\u001b[39mcolumns\n\u001b[1;32m    347\u001b[0m )\n\u001b[0;32m--> 349\u001b[0m \u001b[43m_check_values_indices_shape_match\u001b[49m\u001b[43m(\u001b[49m\u001b[43mvalues\u001b[49m\u001b[43m,\u001b[49m\u001b[43m \u001b[49m\u001b[43mindex\u001b[49m\u001b[43m,\u001b[49m\u001b[43m \u001b[49m\u001b[43mcolumns\u001b[49m\u001b[43m)\u001b[49m\n\u001b[1;32m    351\u001b[0m \u001b[38;5;28;01mif\u001b[39;00m typ \u001b[38;5;241m==\u001b[39m \u001b[38;5;124m\"\u001b[39m\u001b[38;5;124marray\u001b[39m\u001b[38;5;124m\"\u001b[39m:\n\u001b[1;32m    353\u001b[0m     \u001b[38;5;28;01mif\u001b[39;00m \u001b[38;5;28missubclass\u001b[39m(values\u001b[38;5;241m.\u001b[39mdtype\u001b[38;5;241m.\u001b[39mtype, \u001b[38;5;28mstr\u001b[39m):\n",
      "File \u001b[0;32m~/.local/lib/python3.10/site-packages/pandas/core/internals/construction.py:420\u001b[0m, in \u001b[0;36m_check_values_indices_shape_match\u001b[0;34m(values, index, columns)\u001b[0m\n\u001b[1;32m    418\u001b[0m passed \u001b[38;5;241m=\u001b[39m values\u001b[38;5;241m.\u001b[39mshape\n\u001b[1;32m    419\u001b[0m implied \u001b[38;5;241m=\u001b[39m (\u001b[38;5;28mlen\u001b[39m(index), \u001b[38;5;28mlen\u001b[39m(columns))\n\u001b[0;32m--> 420\u001b[0m \u001b[38;5;28;01mraise\u001b[39;00m \u001b[38;5;167;01mValueError\u001b[39;00m(\u001b[38;5;124mf\u001b[39m\u001b[38;5;124m\"\u001b[39m\u001b[38;5;124mShape of passed values is \u001b[39m\u001b[38;5;132;01m{\u001b[39;00mpassed\u001b[38;5;132;01m}\u001b[39;00m\u001b[38;5;124m, indices imply \u001b[39m\u001b[38;5;132;01m{\u001b[39;00mimplied\u001b[38;5;132;01m}\u001b[39;00m\u001b[38;5;124m\"\u001b[39m)\n",
      "\u001b[0;31mValueError\u001b[0m: Shape of passed values is (2060, 110), indices imply (2060, 115)"
     ]
    }
   ],
   "source": [
    "impute = KNNImputer(n_neighbors=9)\n",
    "x_impute = pd.DataFrame(impute.fit_transform(mech_data),columns=data_copy.columns,index=data_copy.index,copy=True)\n",
    "x_impute"
   ]
  },
  {
   "cell_type": "code",
   "execution_count": null,
   "id": "c5825d61",
   "metadata": {},
   "outputs": [],
   "source": [
    "impute_mech = x_impute[108]\n",
    "impute_mech"
   ]
  },
  {
   "cell_type": "code",
   "execution_count": null,
   "id": "07c0236d",
   "metadata": {},
   "outputs": [],
   "source": [
    "mech_data['MechVentLast8Hour'].isnull().sum()"
   ]
  },
  {
   "cell_type": "code",
   "execution_count": null,
   "id": "807c3a90",
   "metadata": {},
   "outputs": [],
   "source": [
    "X = df.drop('In-hospital_death',axis=1)\n",
    "Y = df['In-hospital_death']"
   ]
  },
  {
   "cell_type": "code",
   "execution_count": null,
   "id": "3de21db0",
   "metadata": {},
   "outputs": [],
   "source": [
    "# Unique values of X\n",
    "X.nunique().sum()"
   ]
  },
  {
   "cell_type": "code",
   "execution_count": null,
   "id": "1e370f10",
   "metadata": {},
   "outputs": [],
   "source": [
    "mech_clean = X['MechVentLast8Hour'].dropna()\n",
    "mech_clean"
   ]
  },
  {
   "cell_type": "code",
   "execution_count": null,
   "id": "7f399409",
   "metadata": {},
   "outputs": [],
   "source": [
    "X_train, X_test, y_train, y_test = train_test_split(mech_clean, Y , test_size=0.2,random_state=11)"
   ]
  },
  {
   "cell_type": "markdown",
   "id": "9a32e8c0",
   "metadata": {},
   "source": [
    "Imputing the missing data"
   ]
  },
  {
   "cell_type": "code",
   "execution_count": null,
   "id": "027fdf16",
   "metadata": {},
   "outputs": [],
   "source": [
    "# Filling nans with KNN Imputer\n",
    "impute = KNNImputer(n_neighbors=9)\n",
    "x_impute = impute.fit_transform(X)"
   ]
  },
  {
   "cell_type": "code",
   "execution_count": null,
   "id": "49f781cd",
   "metadata": {},
   "outputs": [],
   "source": [
    "# the number of unique values in dataframe after imputing the missing data\n",
    "pd.DataFrame(x_impute).nunique().sum() \n",
    "pd.DataFrame(x_impute).isnull().sum().sum()"
   ]
  },
  {
   "cell_type": "markdown",
   "id": "42af04b0",
   "metadata": {},
   "source": [
    "Balancing the classes with SMOTE"
   ]
  },
  {
   "cell_type": "code",
   "execution_count": null,
   "id": "28dfcfa9",
   "metadata": {},
   "outputs": [],
   "source": [
    "sm = SMOTE(random_state=11,k_neighbors=5)\n",
    "x_sm, y_sm = sm.fit_resample(x_impute, Y)"
   ]
  },
  {
   "cell_type": "code",
   "execution_count": null,
   "id": "ac8abb76",
   "metadata": {},
   "outputs": [],
   "source": []
  },
  {
   "cell_type": "code",
   "execution_count": null,
   "id": "05fa4cdf",
   "metadata": {},
   "outputs": [],
   "source": [
    "# the number of unique values in dataframe after balancing classes\n",
    "pd.DataFrame(x_sm).nunique().sum()\n"
   ]
  },
  {
   "cell_type": "code",
   "execution_count": null,
   "id": "95c48fb0",
   "metadata": {},
   "outputs": [],
   "source": [
    "X_train, X_test, y_train, y_test = train_test_split(X, Y , test_size=0.2,random_state=11)"
   ]
  },
  {
   "cell_type": "code",
   "execution_count": null,
   "id": "d4a56708",
   "metadata": {},
   "outputs": [],
   "source": [
    "X_test.isnull().sum().sum()"
   ]
  },
  {
   "cell_type": "code",
   "execution_count": null,
   "id": "35986168",
   "metadata": {},
   "outputs": [],
   "source": [
    "impute = KNNImputer(n_neighbors=9)\n",
    "x_impute = impute.fit_transform(X_train)"
   ]
  },
  {
   "cell_type": "code",
   "execution_count": null,
   "id": "3f4b137f",
   "metadata": {},
   "outputs": [],
   "source": [
    "sm = SMOTE(random_state=11,k_neighbors=5)\n",
    "x_sm, y_sm = sm.fit_resample(x_impute, y_train)"
   ]
  },
  {
   "cell_type": "code",
   "execution_count": null,
   "id": "852eeb82",
   "metadata": {},
   "outputs": [],
   "source": [
    "X_test.fillna(X_test.mean(),inplace=True)"
   ]
  },
  {
   "cell_type": "code",
   "execution_count": null,
   "id": "8fb60427",
   "metadata": {},
   "outputs": [],
   "source": [
    "X_test.isnull().sum().sum()\n",
    "X_train.isnull().sum().sum()"
   ]
  },
  {
   "cell_type": "markdown",
   "id": "ff9f4882",
   "metadata": {},
   "source": [
    "Random Forest"
   ]
  },
  {
   "cell_type": "code",
   "execution_count": null,
   "id": "eba7a5e0",
   "metadata": {},
   "outputs": [],
   "source": [
    "forest = RandomForestClassifier(n_estimators=140,random_state=11,oob_score=True,max_features='log2',min_samples_split=5,class_weight='balanced')\n",
    "forest.fit(x_impute,y_train)\n",
    "pred = forest.predict(X_test)\n"
   ]
  },
  {
   "cell_type": "code",
   "execution_count": null,
   "id": "82541192",
   "metadata": {},
   "outputs": [],
   "source": [
    "y_pred_proba = forest.predict_proba(X_test)[:, 1]  # Probabilities of positive class\n",
    "print(np.unique(pred,return_counts=True))\n",
    "# changinh the threshold to increase sensitivity\n",
    "threshold = 0.25\n",
    "pred = (y_pred_proba > threshold).astype(int)\n",
    "print(np.unique(pred,return_counts=True))\n"
   ]
  },
  {
   "cell_type": "code",
   "execution_count": null,
   "id": "5a270913",
   "metadata": {},
   "outputs": [],
   "source": [
    "forest.score(X_test,y_test),f1_score(y_test,pred),forest.oob_score_,accuracy_score(y_test,pred)"
   ]
  },
  {
   "cell_type": "code",
   "execution_count": null,
   "id": "0a6cb0c4",
   "metadata": {},
   "outputs": [],
   "source": [
    "ax = plt.axes()\n",
    "df_cm = (confusion_matrix(y_test, pred, normalize=\"true\")*100).astype(int)\n",
    "\n",
    "sns.heatmap(df_cm, annot=True, annot_kws={\"size\": 30}, fmt='d',cmap=\"Blues\", ax = ax )\n",
    "ax.set_title('Confusion Matrix')\n",
    "plt.show()"
   ]
  },
  {
   "cell_type": "code",
   "execution_count": null,
   "id": "d0e79ec4",
   "metadata": {},
   "outputs": [],
   "source": [
    "# ROC curve for Random Forest\n",
    "lr_probs = forest.predict_proba(X_test)\n",
    "lr_probs = lr_probs[:, 1]\n",
    "lr_auc = roc_auc_score(y_test, lr_probs)\n",
    "\n",
    "lr_fpr, lr_tpr, _ = roc_curve(y_test, lr_probs)\n",
    "\n",
    "plt.plot(lr_fpr, lr_tpr, marker='.', label='Logistic')\n",
    "plt.xlabel('False Positive Rate')\n",
    "plt.ylabel('True Positive Rate')\n",
    "plt.legend()\n",
    "plt.show()"
   ]
  },
  {
   "cell_type": "code",
   "execution_count": null,
   "id": "6e5ae68b",
   "metadata": {},
   "outputs": [],
   "source": [
    "tn, fp, fn, tp = confusion_matrix(y_test, pred).ravel()\n",
    "\n",
    "forest_accuracy = accuracy_score(y_test,pred)\n",
    "# Calculate sensitivity \n",
    "forest_sensitivity = tp / (tp + fn)\n",
    "\n",
    "# Calculate specificity\n",
    "forest_specificity = tn / (tn + fp)\n",
    "\n",
    "# Calculate AUC\n",
    "forest_auc = roc_auc_score(y_test, pred)\n",
    "\n",
    "# Calculate MCC\n",
    "forest_mcc = matthews_corrcoef(y_test, pred)\n",
    "\n",
    "# Print the results\n",
    "print(\"Sensitivity:\", forest_sensitivity)\n",
    "print(\"Specificity:\", forest_specificity)\n",
    "print(\"AUC:\", forest_auc)\n",
    "print(\"MCC:\", forest_mcc)"
   ]
  },
  {
   "cell_type": "code",
   "execution_count": null,
   "id": "2c1bd7fc",
   "metadata": {},
   "outputs": [],
   "source": [
    "# Cross validation\n",
    "params={'n_estimators': [140,150,200], 'max_features': ['log2','sqrt','None']}\n",
    "choice = GridSearchCV(forest,params,cv=8).fit(X_train,y_train)\n",
    "choice.best_params_"
   ]
  },
  {
   "cell_type": "markdown",
   "id": "0eee3927",
   "metadata": {},
   "source": [
    "logistic regression"
   ]
  },
  {
   "cell_type": "code",
   "execution_count": null,
   "id": "4dfdf6de",
   "metadata": {},
   "outputs": [],
   "source": [
    "# Scaling the data\n",
    "scaler = RobustScaler()\n",
    "X_scaled = scaler.fit_transform(x_sm)\n",
    "X_train, X_test, y_train, y_test = train_test_split(X_scaled, y_sm , test_size=0.2, random_state=11)"
   ]
  },
  {
   "cell_type": "code",
   "execution_count": null,
   "id": "62c43a92",
   "metadata": {},
   "outputs": [],
   "source": [
    "classifier = LogisticRegression(C=0.5,penalty='l1', solver='saga')\n",
    "classifier.fit(X_train, y_train)"
   ]
  },
  {
   "cell_type": "code",
   "execution_count": null,
   "id": "f00b5116",
   "metadata": {},
   "outputs": [],
   "source": [
    "X_train"
   ]
  },
  {
   "cell_type": "code",
   "execution_count": null,
   "id": "b3d7fb94",
   "metadata": {},
   "outputs": [],
   "source": [
    "pred = classifier.predict(X_test)"
   ]
  },
  {
   "cell_type": "code",
   "execution_count": null,
   "id": "55339f01",
   "metadata": {},
   "outputs": [],
   "source": [
    "ax = plt.axes()\n",
    "df_cm = (confusion_matrix(y_test, pred, normalize=\"true\")*100).astype(int)\n",
    "\n",
    "sns.heatmap(df_cm, annot=True, annot_kws={\"size\": 30}, fmt='d',cmap=\"Blues\", ax = ax )\n",
    "ax.set_title('Confusion Matrix')\n",
    "ax.set_xlabel('Predicted')\n",
    "ax.set_ylabel('True')\n",
    "plt.show()"
   ]
  },
  {
   "cell_type": "code",
   "execution_count": null,
   "id": "16ad721b",
   "metadata": {},
   "outputs": [],
   "source": [
    "tn, fp, fn, tp = confusion_matrix(y_test, pred).ravel()\n",
    "logistic_accuracy = accuracy_score(y_test,pred)\n",
    "# Calculate sensitivity (recall or true positive rate)\n",
    "logistic_sensitivity = tp / (tp + fn)\n",
    "\n",
    "# Calculate specificity\n",
    "logistic_specificity = tn / (tn + fp)\n",
    "\n",
    "# Calculate AUC\n",
    "logistic_auc = roc_auc_score(y_test, pred)\n",
    "\n",
    "# Calculate MCC\n",
    "logistic_mcc = matthews_corrcoef(y_test, pred)\n",
    "\n",
    "# Print the results\n",
    "# print(\"Sensitivity:\", sensitivity)\n",
    "# print(\"Specificity:\", specificity)\n",
    "# print(\"AUC:\", auc)\n",
    "# print(\"MCC:\", mcc)"
   ]
  },
  {
   "cell_type": "code",
   "execution_count": null,
   "id": "bbfd8696",
   "metadata": {},
   "outputs": [],
   "source": [
    "params = {'C': [0.1,0.5,1,2,5],'penalty': ['l1','l2','elasticnet'],'solver': ['saga','lgfgs']}\n",
    "choice = GridSearchCV(classifier,params,cv=8).fit(X_train,y_train)\n",
    "choice.best_params_"
   ]
  },
  {
   "cell_type": "code",
   "execution_count": null,
   "id": "6b4f0664",
   "metadata": {},
   "outputs": [],
   "source": [
    "classifier.score(X_test,y_test),f1_score(y_test,pred),accuracy_score(y_test,pred)"
   ]
  },
  {
   "cell_type": "markdown",
   "id": "758bcda7",
   "metadata": {},
   "source": [
    "SVM"
   ]
  },
  {
   "cell_type": "code",
   "execution_count": null,
   "id": "edc809e4",
   "metadata": {},
   "outputs": [],
   "source": [
    "# Scaling the data\n",
    "scaler = RobustScaler()\n",
    "X_scaled = scaler.fit_transform(x_sm)\n",
    "X_train, X_test, y_train, y_test = train_test_split(X_scaled, y_sm , test_size=0.2, random_state=11)"
   ]
  },
  {
   "cell_type": "code",
   "execution_count": null,
   "id": "af84c080",
   "metadata": {},
   "outputs": [],
   "source": [
    "svm = SVC(kernel='rbf',C=6,gamma=0.02,probability=True).fit(X_train,y_train)\n",
    "pred = svm.predict(X_test)"
   ]
  },
  {
   "cell_type": "code",
   "execution_count": null,
   "id": "b12316ab",
   "metadata": {},
   "outputs": [],
   "source": [
    "svm.score(X_test,y_test),f1_score(y_test,pred),accuracy_score(y_test,pred)"
   ]
  },
  {
   "cell_type": "code",
   "execution_count": null,
   "id": "04027ec8",
   "metadata": {},
   "outputs": [],
   "source": [
    "y_pred_proba = svm.predict_proba(X_test)[:, 1]  # Probabilities of positive class\n",
    "print(np.unique(pred,return_counts=True))\n",
    "# changinh the threshold to increase sensitivity\n",
    "threshold = 0.5\n",
    "pred = (y_pred_proba > threshold).astype(int)\n",
    "print(np.unique(pred,return_counts=True))"
   ]
  },
  {
   "cell_type": "code",
   "execution_count": null,
   "id": "1d18029a",
   "metadata": {},
   "outputs": [],
   "source": [
    "ax = plt.axes()\n",
    "df_cm = (confusion_matrix(y_test, pred, normalize=\"true\")*100).astype(int)\n",
    "\n",
    "sns.heatmap(df_cm, annot=True, annot_kws={\"size\": 30}, fmt='d',cmap=\"Blues\", ax = ax )\n",
    "ax.set_title('Confusion Matrix')\n",
    "plt.show()"
   ]
  },
  {
   "cell_type": "code",
   "execution_count": null,
   "id": "b5ee33c1",
   "metadata": {},
   "outputs": [],
   "source": [
    "# ROC curve for SVM\n",
    "lr_probs = svm.predict_proba(X_test)\n",
    "lr_probs = lr_probs[:, 1]\n",
    "lr_auc = roc_auc_score(y_test, lr_probs)\n",
    "\n",
    "lr_fpr, lr_tpr, _ = roc_curve(y_test, lr_probs)\n",
    "\n",
    "plt.plot(lr_fpr, lr_tpr, marker='.', label='Logistic')\n",
    "plt.xlabel('False Positive Rate')\n",
    "plt.ylabel('True Positive Rate')\n",
    "plt.legend()\n",
    "plt.show()"
   ]
  },
  {
   "cell_type": "code",
   "execution_count": null,
   "id": "4fe6be05",
   "metadata": {},
   "outputs": [],
   "source": [
    "tn, fp, fn, tp = confusion_matrix(y_test, pred).ravel()\n",
    "\n",
    "svm_accuracy = accuracy_score(y_test,pred)\n",
    "# Calculate sensitivity (recall or true positive rate)\n",
    "svm_sensitivity = tp / (tp + fn)\n",
    "\n",
    "# Calculate specificity\n",
    "svm_specificity = tn / (tn + fp)\n",
    "\n",
    "# Calculate AUC\n",
    "svm_auc = roc_auc_score(y_test, pred)\n",
    "\n",
    "# Calculate MCC\n",
    "svm_mcc = matthews_corrcoef(y_test, pred)\n",
    "\n",
    "# Print the results\n",
    "print(\"Sensitivity:\", svm_sensitivity)\n",
    "print(\"Specificity:\", svm_specificity)\n",
    "print(\"AUC:\", svm_auc)\n",
    "print(\"MCC:\", svm_mcc)"
   ]
  },
  {
   "cell_type": "code",
   "execution_count": null,
   "id": "4b0099c5",
   "metadata": {},
   "outputs": [],
   "source": [
    "params={'C': [6,7,9],'gamma': [0.02,0.05,0.09]}\n",
    "choice = GridSearchCV(svm,params,cv=6).fit(X_train,y_train)\n",
    "choice.best_params_"
   ]
  },
  {
   "cell_type": "markdown",
   "id": "ed4cc144",
   "metadata": {},
   "source": [
    "Naive Bias"
   ]
  },
  {
   "cell_type": "code",
   "execution_count": null,
   "id": "de5d00d5",
   "metadata": {},
   "outputs": [],
   "source": [
    "X_train, X_test, y_train, y_test = train_test_split(x_sm, y_sm , test_size=0.2, random_state=11)"
   ]
  },
  {
   "cell_type": "code",
   "execution_count": null,
   "id": "3a05ee55",
   "metadata": {},
   "outputs": [],
   "source": [
    "naive = GaussianNB(var_smoothing=0).fit(X_train,y_train)\n",
    "X_train.shape,y_train.shape"
   ]
  },
  {
   "cell_type": "code",
   "execution_count": null,
   "id": "b12bd8fa",
   "metadata": {},
   "outputs": [],
   "source": [
    "pred = naive.predict(X_test)"
   ]
  },
  {
   "cell_type": "code",
   "execution_count": null,
   "id": "88070144",
   "metadata": {},
   "outputs": [],
   "source": [
    "ax = plt.axes()\n",
    "df_cm = (confusion_matrix(y_test, pred, normalize=\"true\")*100).astype(int)\n",
    "\n",
    "sns.heatmap(df_cm, annot=True, annot_kws={\"size\": 30}, fmt='d',cmap=\"Blues\", ax = ax )\n",
    "ax.set_title('Confusion Matrix')\n",
    "plt.show()"
   ]
  },
  {
   "cell_type": "code",
   "execution_count": null,
   "id": "29a17efe",
   "metadata": {},
   "outputs": [],
   "source": [
    "tn, fp, fn, tp = confusion_matrix(y_test, pred).ravel()\n",
    "naive_accuracy = accuracy_score(y_test,pred)\n",
    "# Calculate sensitivity (recall or true positive rate)\n",
    "naive_sensitivity = tp / (tp + fn)\n",
    "\n",
    "# Calculate specificity\n",
    "naive_specificity = tn / (tn + fp)\n",
    "\n",
    "# Calculate AUC\n",
    "naive_auc = roc_auc_score(y_test, pred)\n",
    "\n",
    "# Calculate MCC\n",
    "naive_mcc = matthews_corrcoef(y_test, pred)\n",
    "\n",
    "# Print the results\n",
    "# print(\"Sensitivity:\", sensitivity)\n",
    "# print(\"Specificity:\", specificity)\n",
    "# print(\"AUC:\", auc)\n",
    "# print(\"MCC:\", mcc)"
   ]
  },
  {
   "cell_type": "code",
   "execution_count": null,
   "id": "0c295aab",
   "metadata": {},
   "outputs": [],
   "source": [
    "params = {\n",
    "    'var_smoothing': [-1,0,1e-100,1e-10,1e-9] # Example hyperparameter values for var_smoothing\n",
    "}\n",
    "\n",
    "\n",
    "\n",
    "choice = GridSearchCV(naive,params,cv=5).fit(X_train,y_train)\n",
    "\n",
    "\n",
    "# Print the best hyperparameter values and corresponding score\n",
    "print(\"Best Hyperparameters: \", choice.best_params_)\n",
    "print(\"Best Score: \", choice.best_score_)"
   ]
  },
  {
   "cell_type": "markdown",
   "id": "082bcb71",
   "metadata": {},
   "source": [
    "LDA"
   ]
  },
  {
   "cell_type": "code",
   "execution_count": null,
   "id": "e0c86954",
   "metadata": {},
   "outputs": [],
   "source": [
    "lda = LinearDiscriminantAnalysis(solver='svd')\n",
    "\n",
    "lda.fit(X_train, y_train)\n",
    "\n",
    "pred = lda.predict(X_test)"
   ]
  },
  {
   "cell_type": "code",
   "execution_count": null,
   "id": "c21fb523",
   "metadata": {},
   "outputs": [],
   "source": [
    "ax = plt.axes()\n",
    "df_cm = (confusion_matrix(y_test, pred, normalize=\"true\")*100).astype(int)\n",
    "\n",
    "sns.heatmap(df_cm, annot=True, annot_kws={\"size\": 30}, fmt='d',cmap=\"Blues\", ax = ax )\n",
    "ax.set_title('Confusion Matrix')\n",
    "plt.show()"
   ]
  },
  {
   "cell_type": "code",
   "execution_count": null,
   "id": "6fbe8535",
   "metadata": {},
   "outputs": [],
   "source": [
    "tn, fp, fn, tp = confusion_matrix(y_test, pred).ravel()\n",
    "\n",
    "# Calculate sensitivity (recall or true positive rate)\n",
    "sensitivity = tp / (tp + fn)\n",
    "\n",
    "# Calculate specificity\n",
    "specificity = tn / (tn + fp)\n",
    "\n",
    "# Calculate AUC\n",
    "auc = roc_auc_score(y_test, pred)\n",
    "\n",
    "# Calculate MCC\n",
    "mcc = matthews_corrcoef(y_test, pred)\n",
    "\n",
    "# Print the results\n",
    "print(\"Sensitivity:\", sensitivity)\n",
    "print(\"Specificity:\", specificity)\n",
    "print(\"AUC:\", auc)\n",
    "print(\"MCC:\", mcc)"
   ]
  },
  {
   "cell_type": "code",
   "execution_count": null,
   "id": "fe1bc629",
   "metadata": {},
   "outputs": [],
   "source": [
    "param_grid = {'solver': ['svd', 'lsqr', 'eigen'], 'n_components': [None, 1, 2, 3]}\n",
    "\n",
    "grid_search = GridSearchCV(lda, param_grid, cv=5).fit(X_train, y_train)\n",
    "\n",
    "best_params = grid_search.best_params_\n",
    "print(\"Best Parameters: \", best_params)"
   ]
  },
  {
   "cell_type": "markdown",
   "id": "33fb4274",
   "metadata": {},
   "source": [
    "QDA"
   ]
  },
  {
   "cell_type": "code",
   "execution_count": null,
   "id": "894e87b1",
   "metadata": {},
   "outputs": [],
   "source": [
    "qda = QuadraticDiscriminantAnalysis()\n",
    "\n",
    "qda.fit(X_train, y_train)\n",
    "\n",
    "pred = qda.predict(X_test)"
   ]
  },
  {
   "cell_type": "code",
   "execution_count": null,
   "id": "bf372cda",
   "metadata": {},
   "outputs": [],
   "source": [
    "ax = plt.axes()\n",
    "df_cm = (confusion_matrix(y_test, pred, normalize=\"true\")*100).astype(int)\n",
    "\n",
    "sns.heatmap(df_cm, annot=True, annot_kws={\"size\": 30}, fmt='d',cmap=\"Blues\", ax = ax )\n",
    "ax.set_title('Confusion Matrix')\n",
    "plt.show()"
   ]
  },
  {
   "cell_type": "code",
   "execution_count": null,
   "id": "5e364956",
   "metadata": {},
   "outputs": [],
   "source": [
    "tn, fp, fn, tp = confusion_matrix(y_test, pred).ravel()\n",
    "accuracy_score(y_test,pred)\n",
    "# Calculate sensitivity (recall or true positive rate)\n",
    "qda_qda_sensitivity = tp / (tp + fn)\n",
    "\n",
    "# Calculate specificity\n",
    "qda_specificity = tn / (tn + fp)\n",
    "\n",
    "# Calculate AUC\n",
    "qda_auc = roc_auc_score(y_test, pred)\n",
    "\n",
    "# Calculate MCC\n",
    "qda_mcc = matthews_corrcoef(y_test, pred)\n",
    "\n",
    "# Print the results\n",
    "print(\"Sensitivity:\", sensitivity)\n",
    "print(\"Specificity:\", specificity)\n",
    "print(\"AUC:\", auc)\n",
    "print(\"MCC:\", mcc)"
   ]
  },
  {
   "cell_type": "code",
   "execution_count": null,
   "id": "bb8e6dcd",
   "metadata": {},
   "outputs": [],
   "source": [
    "param_grid = {'reg_param': [0.0, 0.1, 0.2, 0.3, 0.4, 0.5]}\n",
    "choice = GridSearchCV(qda,param_grid,cv=10).fit(X_train,y_train)\n",
    "choice.best_params_"
   ]
  },
  {
   "cell_type": "markdown",
   "id": "0ffec837",
   "metadata": {},
   "source": [
    "KNN"
   ]
  },
  {
   "cell_type": "code",
   "execution_count": null,
   "id": "1d793126",
   "metadata": {},
   "outputs": [],
   "source": [
    "# Scaling the data\n",
    "scaler = RobustScaler()\n",
    "X_scaled = scaler.fit_transform(x_impute)\n",
    "X_train, X_test, y_train, y_test = train_test_split(X_scaled, Y , test_size=0.2, random_state=11)\n"
   ]
  },
  {
   "cell_type": "code",
   "execution_count": null,
   "id": "4221b8f0",
   "metadata": {},
   "outputs": [],
   "source": [
    "knn = KNeighborsClassifier(n_neighbors=7).fit(X_train,y_train)"
   ]
  },
  {
   "cell_type": "code",
   "execution_count": null,
   "id": "a31d17f3",
   "metadata": {},
   "outputs": [],
   "source": [
    "pred = knn.predict(X_test)\n",
    "X_train.shape"
   ]
  },
  {
   "cell_type": "code",
   "execution_count": null,
   "id": "50d1f171",
   "metadata": {},
   "outputs": [],
   "source": [
    "ax = plt.axes()\n",
    "df_cm = (confusion_matrix(y_test, pred, normalize=\"true\")*100).astype(int)\n",
    "\n",
    "sns.heatmap(df_cm, annot=True, annot_kws={\"size\": 30}, fmt='d',cmap=\"Blues\", ax = ax )\n",
    "ax.set_title('Confusion Matrix')\n",
    "plt.show()"
   ]
  },
  {
   "cell_type": "code",
   "execution_count": null,
   "id": "08475795",
   "metadata": {},
   "outputs": [],
   "source": [
    "tn, fp, fn, tp = confusion_matrix(y_test, pred).ravel()\n",
    "\n",
    "# Calculate sensitivity (recall or true positive rate)\n",
    "sensitivity = tp / (tp + fn)\n",
    "\n",
    "# Calculate specificity\n",
    "specificity = tn / (tn + fp)\n",
    "\n",
    "# Calculate AUC\n",
    "auc = roc_auc_score(y_test, pred)\n",
    "\n",
    "# Calculate MCC\n",
    "mcc = matthews_corrcoef(y_test, pred)\n",
    "\n",
    "# Print the results\n",
    "print(\"Sensitivity:\", sensitivity)\n",
    "print(\"Specificity:\", specificity)\n",
    "print(\"AUC:\", auc)\n",
    "print(\"MCC:\", mcc)"
   ]
  },
  {
   "cell_type": "code",
   "execution_count": null,
   "id": "e03acbbd",
   "metadata": {},
   "outputs": [],
   "source": [
    "params = {'n_neighbors': [1,2,3,4,5,6,7,8,9]}\n",
    "choice = GridSearchCV(knn,params,cv=10).fit(X_train,y_train)\n",
    "choice.best_params_\n"
   ]
  },
  {
   "cell_type": "code",
   "execution_count": null,
   "id": "23b23cf6",
   "metadata": {
    "scrolled": false
   },
   "outputs": [],
   "source": [
    "import matplotlib.pyplot as plt\n",
    "\n",
    "# Define the classifiers and their corresponding metric values\n",
    "classifiers = ['','Random Forest', 'SVM', 'Logistic Regression', 'Naive Bayes']\n",
    "AUC = ['AUC', forest_auc, svm_auc, logistic_auc, naive_auc]\n",
    "MCC = ['MCC', forest_mcc, svm_mcc, logistic_mcc, naive_mcc]\n",
    "Sensitivity = ['Sensitivity', forest_sensitivity, svm_sensitivity, logistic_sensitivity, naive_sensitivity]\n",
    "Specificity = ['Specificity', forest_specificity, svm_specificity, logistic_specificity, naive_specificity ]\n",
    "Accuracy = ['Accuracy', forest_accuracy, svm_accuracy, logistic_accuracy, naive_accuracy]\n",
    "\n",
    "# Create the table as a matplotlib figure\n",
    "fig, ax = plt.subplots()\n",
    "\n",
    "# Define the table data as a list of lists\n",
    "table_data = [\n",
    "    classifiers,\n",
    "    AUC,\n",
    "    MCC,\n",
    "    Sensitivity,\n",
    "    Specificity,\n",
    "    Accuracy\n",
    "]\n",
    "\n",
    "\n",
    "\n",
    "\n",
    "\n",
    "# Transpose the table data to have classifiers as columns\n",
    "table_data = list(map(list, zip(*table_data)))\n",
    "\n",
    "\n",
    "df = pd.DataFrame(table_data)\n",
    "df = df.rename(columns=df.iloc[0]).loc[1:]\n",
    "\n",
    "\n",
    "\n",
    "# # Set the index column as the index of the dataframe\n",
    "df.set_index('', inplace=True)\n",
    "\n",
    "# Convert numeric columns to numeric data type\n",
    "df.iloc[:, 1:] = df.iloc[:, 1:].apply(pd.to_numeric)\n",
    "\n",
    "# Sort the dataframe by all numeric columns in descending order\n",
    "df = df.sort_values(by=list(df.select_dtypes(exclude='object').columns), axis=0, ascending=False)\n",
    "\n",
    "\n",
    "df=df.reset_index()\n",
    "\n",
    "\n",
    "\n",
    "\n",
    "\n",
    "\n",
    "# Create the table as a matplotlib figure\n",
    "# fig, ax = plt.subplots()\n",
    "\n",
    "# Create the table\n",
    "table = ax.table(cellText=df.values, colLabels=df.columns, loc='center')\n",
    "\n",
    "# Set table properties\n",
    "table.auto_set_font_size(False)\n",
    "table.set_fontsize(40)\n",
    "table.scale(10, 10)  # Adjust table size as desired\n",
    "\n",
    "# Hide table axes\n",
    "ax.axis('off')\n",
    "\n",
    "# Save the table as an image\n",
    "plt.savefig('table.png', bbox_inches='tight')\n",
    "\n",
    "\n"
   ]
  }
 ],
 "metadata": {
  "kernelspec": {
   "display_name": "Python 3 (ipykernel)",
   "language": "python",
   "name": "python3"
  },
  "language_info": {
   "codemirror_mode": {
    "name": "ipython",
    "version": 3
   },
   "file_extension": ".py",
   "mimetype": "text/x-python",
   "name": "python",
   "nbconvert_exporter": "python",
   "pygments_lexer": "ipython3",
   "version": "3.10.10"
  }
 },
 "nbformat": 4,
 "nbformat_minor": 5
}
